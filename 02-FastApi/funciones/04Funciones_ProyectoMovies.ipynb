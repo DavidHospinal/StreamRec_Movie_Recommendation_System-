{
  "nbformat": 4,
  "nbformat_minor": 0,
  "metadata": {
    "colab": {
      "provenance": []
    },
    "kernelspec": {
      "name": "python3",
      "display_name": "Python 3"
    },
    "language_info": {
      "name": "python"
    }
  },
  "cells": [
    {
      "cell_type": "code",
      "execution_count": 63,
      "metadata": {
        "id": "WvEuWWvJ4L-f"
      },
      "outputs": [],
      "source": [
        "import pandas as pd\n",
        "import numpy as np\n",
        "import ast\n",
        "from sklearn.linear_model import LinearRegression\n",
        "from sklearn.metrics import mean_squared_error # poner este como metrica\n",
        "import matplotlib.pyplot as plt\n",
        "import seaborn as sns"
      ]
    },
    {
      "cell_type": "code",
      "source": [
        "from google.colab import drive\n",
        "drive.mount('/content/drive')\n"
      ],
      "metadata": {
        "colab": {
          "base_uri": "https://localhost:8080/"
        },
        "id": "bslXaiwT4g56",
        "outputId": "bb5ff0b4-fa01-43a8-8a38-998ed949b23f"
      },
      "execution_count": 64,
      "outputs": [
        {
          "output_type": "stream",
          "name": "stdout",
          "text": [
            "Drive already mounted at /content/drive; to attempt to forcibly remount, call drive.mount(\"/content/drive\", force_remount=True).\n"
          ]
        }
      ]
    },
    {
      "cell_type": "code",
      "source": [
        "dfmerge = pd.read_csv('/content/drive/MyDrive/merged_data2.csv')\n",
        "dfmerge.head()"
      ],
      "metadata": {
        "colab": {
          "base_uri": "https://localhost:8080/",
          "height": 802
        },
        "id": "sRPx5Rdj4pur",
        "outputId": "7740ea3d-ed61-4887-f27f-9dcbc9d9e152"
      },
      "execution_count": 65,
      "outputs": [
        {
          "output_type": "execute_result",
          "data": {
            "text/plain": [
              "            belongs_to_collection    budget                      genres  \\\n",
              "0            Toy Story Collection  30000000   Animation, Comedy, Family   \n",
              "1                             NaN  65000000  Adventure, Fantasy, Family   \n",
              "2       Grumpy Old Men Collection         0             Romance, Comedy   \n",
              "3                             NaN  16000000      Comedy, Drama, Romance   \n",
              "4  Father of the Bride Collection         0                      Comedy   \n",
              "\n",
              "      id original_language                                           overview  \\\n",
              "0    862                en  Led by Woody, Andy's toys live happily in his ...   \n",
              "1   8844                en  When siblings Judy and Peter discover an encha...   \n",
              "2  15602                en  A family wedding reignites the ancient feud be...   \n",
              "3  31357                en  Cheated on, mistreated and stepped on, the wom...   \n",
              "4  11862                en  Just when George Banks has recovered from his ...   \n",
              "\n",
              "   popularity                               production_companies  \\\n",
              "0   21.946943                            Pixar Animation Studios   \n",
              "1   17.015539  TriStar Pictures, Teitler Film, Interscope Com...   \n",
              "2   11.712900                       Warner Bros., Lancaster Gate   \n",
              "3    3.859495             Twentieth Century Fox Film Corporation   \n",
              "4    8.387519         Sandollar Productions, Touchstone Pictures   \n",
              "\n",
              "       production_countries release_date  ...   spoken_languages    status  \\\n",
              "0  United States of America   1995-10-30  ...            English  Released   \n",
              "1  United States of America   1995-12-15  ...  English, Français  Released   \n",
              "2  United States of America   1995-12-22  ...            English  Released   \n",
              "3  United States of America   1995-12-22  ...            English  Released   \n",
              "4  United States of America   1995-02-10  ...            English  Released   \n",
              "\n",
              "                                             tagline  \\\n",
              "0                                                NaN   \n",
              "1          Roll the dice and unleash the excitement!   \n",
              "2  Still Yelling. Still Fighting. Still Ready for...   \n",
              "3  Friends are the people who let you be yourself...   \n",
              "4  Just When His World Is Back To Normal... He's ...   \n",
              "\n",
              "                         title vote_average vote_count  release_year  \\\n",
              "0                    Toy Story          7.7     5415.0          1995   \n",
              "1                      Jumanji          6.9     2413.0          1995   \n",
              "2             Grumpier Old Men          6.5       92.0          1995   \n",
              "3            Waiting to Exhale          6.1       34.0          1995   \n",
              "4  Father of the Bride Part II          5.7      173.0          1995   \n",
              "\n",
              "      return                                         ActorNames  \\\n",
              "0  12.451801  Tom Hanks, Tim Allen, Don Rickles, Jim Varney,...   \n",
              "1   4.043035  Robin Williams, Jonathan Hyde, Kirsten Dunst, ...   \n",
              "2   0.000000  Walter Matthau, Jack Lemmon, Ann-Margret, Soph...   \n",
              "3   5.090760  Whitney Houston, Angela Bassett, Loretta Devin...   \n",
              "4   0.000000  Steve Martin, Diane Keaton, Martin Short, Kimb...   \n",
              "\n",
              "     DirectorNames  \n",
              "0    John Lasseter  \n",
              "1     Joe Johnston  \n",
              "2    Howard Deutch  \n",
              "3  Forest Whitaker  \n",
              "4    Charles Shyer  \n",
              "\n",
              "[5 rows x 22 columns]"
            ],
            "text/html": [
              "\n",
              "  <div id=\"df-1121b8a2-b5b7-4322-b975-04d03550c5ac\">\n",
              "    <div class=\"colab-df-container\">\n",
              "      <div>\n",
              "<style scoped>\n",
              "    .dataframe tbody tr th:only-of-type {\n",
              "        vertical-align: middle;\n",
              "    }\n",
              "\n",
              "    .dataframe tbody tr th {\n",
              "        vertical-align: top;\n",
              "    }\n",
              "\n",
              "    .dataframe thead th {\n",
              "        text-align: right;\n",
              "    }\n",
              "</style>\n",
              "<table border=\"1\" class=\"dataframe\">\n",
              "  <thead>\n",
              "    <tr style=\"text-align: right;\">\n",
              "      <th></th>\n",
              "      <th>belongs_to_collection</th>\n",
              "      <th>budget</th>\n",
              "      <th>genres</th>\n",
              "      <th>id</th>\n",
              "      <th>original_language</th>\n",
              "      <th>overview</th>\n",
              "      <th>popularity</th>\n",
              "      <th>production_companies</th>\n",
              "      <th>production_countries</th>\n",
              "      <th>release_date</th>\n",
              "      <th>...</th>\n",
              "      <th>spoken_languages</th>\n",
              "      <th>status</th>\n",
              "      <th>tagline</th>\n",
              "      <th>title</th>\n",
              "      <th>vote_average</th>\n",
              "      <th>vote_count</th>\n",
              "      <th>release_year</th>\n",
              "      <th>return</th>\n",
              "      <th>ActorNames</th>\n",
              "      <th>DirectorNames</th>\n",
              "    </tr>\n",
              "  </thead>\n",
              "  <tbody>\n",
              "    <tr>\n",
              "      <th>0</th>\n",
              "      <td>Toy Story Collection</td>\n",
              "      <td>30000000</td>\n",
              "      <td>Animation, Comedy, Family</td>\n",
              "      <td>862</td>\n",
              "      <td>en</td>\n",
              "      <td>Led by Woody, Andy's toys live happily in his ...</td>\n",
              "      <td>21.946943</td>\n",
              "      <td>Pixar Animation Studios</td>\n",
              "      <td>United States of America</td>\n",
              "      <td>1995-10-30</td>\n",
              "      <td>...</td>\n",
              "      <td>English</td>\n",
              "      <td>Released</td>\n",
              "      <td>NaN</td>\n",
              "      <td>Toy Story</td>\n",
              "      <td>7.7</td>\n",
              "      <td>5415.0</td>\n",
              "      <td>1995</td>\n",
              "      <td>12.451801</td>\n",
              "      <td>Tom Hanks, Tim Allen, Don Rickles, Jim Varney,...</td>\n",
              "      <td>John Lasseter</td>\n",
              "    </tr>\n",
              "    <tr>\n",
              "      <th>1</th>\n",
              "      <td>NaN</td>\n",
              "      <td>65000000</td>\n",
              "      <td>Adventure, Fantasy, Family</td>\n",
              "      <td>8844</td>\n",
              "      <td>en</td>\n",
              "      <td>When siblings Judy and Peter discover an encha...</td>\n",
              "      <td>17.015539</td>\n",
              "      <td>TriStar Pictures, Teitler Film, Interscope Com...</td>\n",
              "      <td>United States of America</td>\n",
              "      <td>1995-12-15</td>\n",
              "      <td>...</td>\n",
              "      <td>English, Français</td>\n",
              "      <td>Released</td>\n",
              "      <td>Roll the dice and unleash the excitement!</td>\n",
              "      <td>Jumanji</td>\n",
              "      <td>6.9</td>\n",
              "      <td>2413.0</td>\n",
              "      <td>1995</td>\n",
              "      <td>4.043035</td>\n",
              "      <td>Robin Williams, Jonathan Hyde, Kirsten Dunst, ...</td>\n",
              "      <td>Joe Johnston</td>\n",
              "    </tr>\n",
              "    <tr>\n",
              "      <th>2</th>\n",
              "      <td>Grumpy Old Men Collection</td>\n",
              "      <td>0</td>\n",
              "      <td>Romance, Comedy</td>\n",
              "      <td>15602</td>\n",
              "      <td>en</td>\n",
              "      <td>A family wedding reignites the ancient feud be...</td>\n",
              "      <td>11.712900</td>\n",
              "      <td>Warner Bros., Lancaster Gate</td>\n",
              "      <td>United States of America</td>\n",
              "      <td>1995-12-22</td>\n",
              "      <td>...</td>\n",
              "      <td>English</td>\n",
              "      <td>Released</td>\n",
              "      <td>Still Yelling. Still Fighting. Still Ready for...</td>\n",
              "      <td>Grumpier Old Men</td>\n",
              "      <td>6.5</td>\n",
              "      <td>92.0</td>\n",
              "      <td>1995</td>\n",
              "      <td>0.000000</td>\n",
              "      <td>Walter Matthau, Jack Lemmon, Ann-Margret, Soph...</td>\n",
              "      <td>Howard Deutch</td>\n",
              "    </tr>\n",
              "    <tr>\n",
              "      <th>3</th>\n",
              "      <td>NaN</td>\n",
              "      <td>16000000</td>\n",
              "      <td>Comedy, Drama, Romance</td>\n",
              "      <td>31357</td>\n",
              "      <td>en</td>\n",
              "      <td>Cheated on, mistreated and stepped on, the wom...</td>\n",
              "      <td>3.859495</td>\n",
              "      <td>Twentieth Century Fox Film Corporation</td>\n",
              "      <td>United States of America</td>\n",
              "      <td>1995-12-22</td>\n",
              "      <td>...</td>\n",
              "      <td>English</td>\n",
              "      <td>Released</td>\n",
              "      <td>Friends are the people who let you be yourself...</td>\n",
              "      <td>Waiting to Exhale</td>\n",
              "      <td>6.1</td>\n",
              "      <td>34.0</td>\n",
              "      <td>1995</td>\n",
              "      <td>5.090760</td>\n",
              "      <td>Whitney Houston, Angela Bassett, Loretta Devin...</td>\n",
              "      <td>Forest Whitaker</td>\n",
              "    </tr>\n",
              "    <tr>\n",
              "      <th>4</th>\n",
              "      <td>Father of the Bride Collection</td>\n",
              "      <td>0</td>\n",
              "      <td>Comedy</td>\n",
              "      <td>11862</td>\n",
              "      <td>en</td>\n",
              "      <td>Just when George Banks has recovered from his ...</td>\n",
              "      <td>8.387519</td>\n",
              "      <td>Sandollar Productions, Touchstone Pictures</td>\n",
              "      <td>United States of America</td>\n",
              "      <td>1995-02-10</td>\n",
              "      <td>...</td>\n",
              "      <td>English</td>\n",
              "      <td>Released</td>\n",
              "      <td>Just When His World Is Back To Normal... He's ...</td>\n",
              "      <td>Father of the Bride Part II</td>\n",
              "      <td>5.7</td>\n",
              "      <td>173.0</td>\n",
              "      <td>1995</td>\n",
              "      <td>0.000000</td>\n",
              "      <td>Steve Martin, Diane Keaton, Martin Short, Kimb...</td>\n",
              "      <td>Charles Shyer</td>\n",
              "    </tr>\n",
              "  </tbody>\n",
              "</table>\n",
              "<p>5 rows × 22 columns</p>\n",
              "</div>\n",
              "      <button class=\"colab-df-convert\" onclick=\"convertToInteractive('df-1121b8a2-b5b7-4322-b975-04d03550c5ac')\"\n",
              "              title=\"Convert this dataframe to an interactive table.\"\n",
              "              style=\"display:none;\">\n",
              "        \n",
              "  <svg xmlns=\"http://www.w3.org/2000/svg\" height=\"24px\"viewBox=\"0 0 24 24\"\n",
              "       width=\"24px\">\n",
              "    <path d=\"M0 0h24v24H0V0z\" fill=\"none\"/>\n",
              "    <path d=\"M18.56 5.44l.94 2.06.94-2.06 2.06-.94-2.06-.94-.94-2.06-.94 2.06-2.06.94zm-11 1L8.5 8.5l.94-2.06 2.06-.94-2.06-.94L8.5 2.5l-.94 2.06-2.06.94zm10 10l.94 2.06.94-2.06 2.06-.94-2.06-.94-.94-2.06-.94 2.06-2.06.94z\"/><path d=\"M17.41 7.96l-1.37-1.37c-.4-.4-.92-.59-1.43-.59-.52 0-1.04.2-1.43.59L10.3 9.45l-7.72 7.72c-.78.78-.78 2.05 0 2.83L4 21.41c.39.39.9.59 1.41.59.51 0 1.02-.2 1.41-.59l7.78-7.78 2.81-2.81c.8-.78.8-2.07 0-2.86zM5.41 20L4 18.59l7.72-7.72 1.47 1.35L5.41 20z\"/>\n",
              "  </svg>\n",
              "      </button>\n",
              "      \n",
              "  <style>\n",
              "    .colab-df-container {\n",
              "      display:flex;\n",
              "      flex-wrap:wrap;\n",
              "      gap: 12px;\n",
              "    }\n",
              "\n",
              "    .colab-df-convert {\n",
              "      background-color: #E8F0FE;\n",
              "      border: none;\n",
              "      border-radius: 50%;\n",
              "      cursor: pointer;\n",
              "      display: none;\n",
              "      fill: #1967D2;\n",
              "      height: 32px;\n",
              "      padding: 0 0 0 0;\n",
              "      width: 32px;\n",
              "    }\n",
              "\n",
              "    .colab-df-convert:hover {\n",
              "      background-color: #E2EBFA;\n",
              "      box-shadow: 0px 1px 2px rgba(60, 64, 67, 0.3), 0px 1px 3px 1px rgba(60, 64, 67, 0.15);\n",
              "      fill: #174EA6;\n",
              "    }\n",
              "\n",
              "    [theme=dark] .colab-df-convert {\n",
              "      background-color: #3B4455;\n",
              "      fill: #D2E3FC;\n",
              "    }\n",
              "\n",
              "    [theme=dark] .colab-df-convert:hover {\n",
              "      background-color: #434B5C;\n",
              "      box-shadow: 0px 1px 3px 1px rgba(0, 0, 0, 0.15);\n",
              "      filter: drop-shadow(0px 1px 2px rgba(0, 0, 0, 0.3));\n",
              "      fill: #FFFFFF;\n",
              "    }\n",
              "  </style>\n",
              "\n",
              "      <script>\n",
              "        const buttonEl =\n",
              "          document.querySelector('#df-1121b8a2-b5b7-4322-b975-04d03550c5ac button.colab-df-convert');\n",
              "        buttonEl.style.display =\n",
              "          google.colab.kernel.accessAllowed ? 'block' : 'none';\n",
              "\n",
              "        async function convertToInteractive(key) {\n",
              "          const element = document.querySelector('#df-1121b8a2-b5b7-4322-b975-04d03550c5ac');\n",
              "          const dataTable =\n",
              "            await google.colab.kernel.invokeFunction('convertToInteractive',\n",
              "                                                     [key], {});\n",
              "          if (!dataTable) return;\n",
              "\n",
              "          const docLinkHtml = 'Like what you see? Visit the ' +\n",
              "            '<a target=\"_blank\" href=https://colab.research.google.com/notebooks/data_table.ipynb>data table notebook</a>'\n",
              "            + ' to learn more about interactive tables.';\n",
              "          element.innerHTML = '';\n",
              "          dataTable['output_type'] = 'display_data';\n",
              "          await google.colab.output.renderOutput(dataTable, element);\n",
              "          const docLink = document.createElement('div');\n",
              "          docLink.innerHTML = docLinkHtml;\n",
              "          element.appendChild(docLink);\n",
              "        }\n",
              "      </script>\n",
              "    </div>\n",
              "  </div>\n",
              "  "
            ]
          },
          "metadata": {},
          "execution_count": 65
        }
      ]
    },
    {
      "cell_type": "code",
      "source": [
        "# Verificar las columnas en DataFrames\n",
        "\n",
        "dfmerge.columns"
      ],
      "metadata": {
        "colab": {
          "base_uri": "https://localhost:8080/"
        },
        "id": "VeScqWho5IG4",
        "outputId": "65dcf383-42ce-4291-afe0-f0f15420bcd8"
      },
      "execution_count": 66,
      "outputs": [
        {
          "output_type": "execute_result",
          "data": {
            "text/plain": [
              "Index(['belongs_to_collection', 'budget', 'genres', 'id', 'original_language',\n",
              "       'overview', 'popularity', 'production_companies',\n",
              "       'production_countries', 'release_date', 'revenue', 'runtime',\n",
              "       'spoken_languages', 'status', 'tagline', 'title', 'vote_average',\n",
              "       'vote_count', 'release_year', 'return', 'ActorNames', 'DirectorNames'],\n",
              "      dtype='object')"
            ]
          },
          "metadata": {},
          "execution_count": 66
        }
      ]
    },
    {
      "cell_type": "code",
      "source": [
        "# Aseguramos que la columna 'release_date' sea de tipo datetime\n",
        "dfmerge['release_date'] = pd.to_datetime(dfmerge['release_date'], format='%Y-%m-%d')\n"
      ],
      "metadata": {
        "id": "sZedwYDKGc7v"
      },
      "execution_count": 67,
      "outputs": []
    },
    {
      "cell_type": "code",
      "source": [
        "dfmerge.to_csv('dfmerge.csv', index=False)\n"
      ],
      "metadata": {
        "id": "Z9c4K_9fH1Eg"
      },
      "execution_count": 68,
      "outputs": []
    },
    {
      "cell_type": "markdown",
      "source": [
        "def cantidad_filmaciones_mes( Mes ): Se ingresa un mes en idioma Español. Debe devolver la cantidad de películas que fueron estrenadas en el mes consultado en la totalidad del dataset.\n",
        "                    Ejemplo de retorno: X cantidad de películas fueron estrenadas en el mes de X "
      ],
      "metadata": {
        "id": "sVbzq79YKwdu"
      }
    },
    {
      "cell_type": "code",
      "source": [
        "def cantidad_filmaciones_mes(mes):\n",
        "    # Mapeamos el mes en español a su valor numérico\n",
        "    mes_map = {\n",
        "        'enero': 1,\n",
        "        'febrero': 2,\n",
        "        'marzo': 3,\n",
        "        'abril': 4,\n",
        "        'mayo': 5,\n",
        "        'junio': 6,\n",
        "        'julio': 7,\n",
        "        'agosto': 8,\n",
        "        'septiembre': 9,\n",
        "        'octubre': 10,\n",
        "        'noviembre': 11,\n",
        "        'diciembre': 12,\n",
        "    }\n",
        "    \n",
        "    if mes.lower() not in mes_map:\n",
        "        return {\"error\": \"Por favor, ingrese un mes válido.\"}\n",
        "    \n",
        "    # Filtramos el DataFrame para solo las películas que fueron estrenadas en el mes dado\n",
        "    df_mes = dfmerge[dfmerge['release_date'].dt.month == mes_map[mes.lower()]]\n",
        "    \n",
        "    # Contamos las películas\n",
        "    conteo_peliculas = df_mes.shape[0]\n",
        "    \n",
        "    return {\"resultado\": f\"{conteo_peliculas} películas fueron estrenadas en el mes de {mes}\"}\n"
      ],
      "metadata": {
        "id": "c-Gsix3JJtP1"
      },
      "execution_count": 69,
      "outputs": []
    },
    {
      "cell_type": "code",
      "source": [
        "resultado = cantidad_filmaciones_mes(\"noviembre\")\n",
        "print(resultado)\n"
      ],
      "metadata": {
        "colab": {
          "base_uri": "https://localhost:8080/"
        },
        "id": "HUvN6lurKLgG",
        "outputId": "e4233563-3e81-4ef8-dbd6-068c4134899f"
      },
      "execution_count": 70,
      "outputs": [
        {
          "output_type": "stream",
          "name": "stdout",
          "text": [
            "{'resultado': '3479 películas fueron estrenadas en el mes de noviembre'}\n"
          ]
        }
      ]
    },
    {
      "cell_type": "markdown",
      "source": [
        "def cantidad_filmaciones_dia( Dia ): Se ingresa un día en idioma Español. Debe devolver la cantidad de películas que fueron estrenadas en día consultado en la totalidad del dataset.\n",
        "                    Ejemplo de retorno: X cantidad de películas fueron estrenadas en los días X "
      ],
      "metadata": {
        "id": "FSFzVbHbLAQU"
      }
    },
    {
      "cell_type": "code",
      "source": [
        "def cantidad_filmaciones_dia(dia):\n",
        "    # Mapeamos el día en español a su valor numérico\n",
        "    dias_map = {\n",
        "        'lunes': 0,\n",
        "        'martes': 1,\n",
        "        'miércoles': 2,\n",
        "        'jueves': 3,\n",
        "        'viernes': 4,\n",
        "        'sábado': 5,\n",
        "        'domingo': 6\n",
        "    }\n",
        "    \n",
        "    if dia.lower() not in dias_map:\n",
        "        return {\"error\": \"Por favor, ingrese un día válido.\"}\n",
        "    \n",
        "    # Filtramos el DataFrame para solo las películas que fueron estrenadas en el día dado\n",
        "    df_dia = dfmerge[dfmerge['release_date'].dt.dayofweek == dias_map[dia.lower()]]\n",
        "    \n",
        "    # Contamos las películas\n",
        "    conteo_peliculas = df_dia.shape[0]\n",
        "    \n",
        "    return {\"resultado\": f\"{conteo_peliculas} películas fueron estrenadas en los días {dia}\"}\n"
      ],
      "metadata": {
        "id": "EOOo9OP4LEQv"
      },
      "execution_count": 71,
      "outputs": []
    },
    {
      "cell_type": "code",
      "source": [
        "resultado = cantidad_filmaciones_dia(\"martes\")\n",
        "print(resultado)\n"
      ],
      "metadata": {
        "colab": {
          "base_uri": "https://localhost:8080/"
        },
        "id": "CD731eGnQHLN",
        "outputId": "1d1a9111-bc3b-4ad8-ccec-be524b7a01a4"
      },
      "execution_count": 72,
      "outputs": [
        {
          "output_type": "stream",
          "name": "stdout",
          "text": [
            "{'resultado': '4360 películas fueron estrenadas en los días martes'}\n"
          ]
        }
      ]
    },
    {
      "cell_type": "markdown",
      "source": [
        "def score_titulo( titulo_de_la_filmación ): Se ingresa el título de una filmación esperando como respuesta el título, el año de estreno y el score.\n",
        "                    Ejemplo de retorno: La película X fue estrenada en el año X con un score/popularidad de X"
      ],
      "metadata": {
        "id": "Msd2TgxKQRPl"
      }
    },
    {
      "cell_type": "code",
      "source": [
        "def score_titulo(titulo_de_la_filmacion):\n",
        "    # Filtramos el DataFrame por el título de la filmación\n",
        "    pelicula = dfmerge[dfmerge['title'] == titulo_de_la_filmacion]\n",
        "    \n",
        "    if pelicula.empty:\n",
        "        return {\"error\": \"No se encontró la película.\"}\n",
        "    \n",
        "    # Obtenemos el año de estreno y el score de la película\n",
        "    año_estreno = pelicula['release_year'].values[0]\n",
        "    score = pelicula['popularity'].values[0]\n",
        "    \n",
        "    return {\"resultado\": f\"La película {titulo_de_la_filmacion} fue estrenada en el año {año_estreno} con un score/popularidad de {score}\"}\n"
      ],
      "metadata": {
        "id": "IpcrHsNbQWVF"
      },
      "execution_count": 73,
      "outputs": []
    },
    {
      "cell_type": "code",
      "source": [
        "resultado = score_titulo(\"Toy Story\")\n",
        "print(resultado)\n"
      ],
      "metadata": {
        "colab": {
          "base_uri": "https://localhost:8080/"
        },
        "id": "gdY7RWBSRsET",
        "outputId": "bc5d2e14-07d1-4d30-a7f1-3220cdef7c5d"
      },
      "execution_count": 74,
      "outputs": [
        {
          "output_type": "stream",
          "name": "stdout",
          "text": [
            "{'resultado': 'La película Toy Story fue estrenada en el año 1995 con un score/popularidad de 21.946943'}\n"
          ]
        }
      ]
    },
    {
      "cell_type": "markdown",
      "source": [
        "def votos_titulo( titulo_de_la_filmación ): Se ingresa el título de una filmación esperando como respuesta el título, la cantidad de votos y el valor promedio de las votaciones. La misma variable deberá de contar con al menos 2000 valoraciones, caso contrario, debemos contar con un mensaje avisando que no cumple esta condición y que por ende, no se devuelve ningun valor.\n",
        "                    Ejemplo de retorno: La película X fue estrenada en el año X. La misma cuenta con un total de X valoraciones, con un promedio de X"
      ],
      "metadata": {
        "id": "5o6rOw3xSIlb"
      }
    },
    {
      "cell_type": "code",
      "source": [
        "def votos_titulo(titulo_de_la_filmacion):\n",
        "    # Filtramos el DataFrame por el título de la filmación\n",
        "    pelicula = dfmerge[dfmerge['title'] == titulo_de_la_filmacion]\n",
        "    \n",
        "    if pelicula.empty:\n",
        "        return {\"error\": \"No se encontró la película.\"}\n",
        "    \n",
        "    vote_count = pelicula['vote_count'].values[0]\n",
        "    vote_average = pelicula['vote_average'].values[0]\n",
        "    release_year = pelicula['release_year'].values[0]\n",
        "    \n",
        "    if vote_count < 2000:\n",
        "        return {\"error\": \"La película no cumple con la cantidad mínima de valoraciones.\"}\n",
        "    \n",
        "    return {\"resultado\": f\"La película {titulo_de_la_filmacion} fue estrenada en el año {release_year}. La misma cuenta con un total de {vote_count} valoraciones, con un promedio de {vote_average}\"}\n"
      ],
      "metadata": {
        "id": "jqRHrQinUT-N"
      },
      "execution_count": 75,
      "outputs": []
    },
    {
      "cell_type": "code",
      "source": [
        "resultado = votos_titulo(\"Grumpier Old Men\")\n",
        "print(resultado)\n"
      ],
      "metadata": {
        "colab": {
          "base_uri": "https://localhost:8080/"
        },
        "id": "OK33wFv_Td4c",
        "outputId": "a5fab945-a3e9-42d1-a8f4-d539e43d5ad4"
      },
      "execution_count": 76,
      "outputs": [
        {
          "output_type": "stream",
          "name": "stdout",
          "text": [
            "{'error': 'La película no cumple con la cantidad mínima de valoraciones.'}\n"
          ]
        }
      ]
    },
    {
      "cell_type": "code",
      "source": [
        "'''dfmerge = dfmerge.dropna(subset=['ActorNames'])\n",
        "\n",
        "# Monta tu Google Drive\n",
        "from google.colab import drive\n",
        "drive.mount('/content/drive')\n",
        "\n",
        "# Especifica la ruta y el nombre de archivo para guardar el dataset\n",
        "ruta_archivo = '/content/drive/MyDrive/merged_data2.csv'\n",
        "\n",
        "# Exporta el DataFrame al archivo CSV\n",
        "dfmerge.to_csv(ruta_archivo, index=False)\n",
        "\n",
        "'''\n"
      ],
      "metadata": {
        "colab": {
          "base_uri": "https://localhost:8080/"
        },
        "id": "Ey6lw6G6Wt4c",
        "outputId": "a6207d9b-cd0c-4eb8-bc4e-a02651f309a9"
      },
      "execution_count": 62,
      "outputs": [
        {
          "output_type": "stream",
          "name": "stdout",
          "text": [
            "Drive already mounted at /content/drive; to attempt to forcibly remount, call drive.mount(\"/content/drive\", force_remount=True).\n"
          ]
        }
      ]
    },
    {
      "cell_type": "markdown",
      "source": [
        "def get_actor( nombre_actor ): Se ingresa el nombre de un actor que se encuentre dentro de un dataset debiendo devolver el éxito del mismo medido a través del retorno. Además, la cantidad de películas que en las que ha participado y el promedio de retorno. La definición no deberá considerar directores.\n",
        "                    Ejemplo de retorno: El actor X ha participado de X cantidad de filmaciones, el mismo ha conseguido un retorno de X con un promedio de X por filmación"
      ],
      "metadata": {
        "id": "EgC7th5yUq0z"
      }
    },
    {
      "cell_type": "code",
      "source": [
        "def get_actor(nombre_actor):\n",
        "    # Filtramos el DataFrame por el nombre del actor\n",
        "    actor_films = dfmerge[dfmerge['ActorNames'].str.contains(nombre_actor, case=False)]\n",
        "    \n",
        "    if actor_films.empty:\n",
        "        return {\"error\": \"No se encontró el actor en el dataset.\"}\n",
        "    \n",
        "    film_count = actor_films.shape[0]\n",
        "    total_return = actor_films['return'].sum()\n",
        "    average_return = total_return / film_count\n",
        "    \n",
        "    return {\"resultado\": f\"El actor {nombre_actor} ha participado en {film_count} filmaciones. Ha conseguido un retorno total de {total_return} con un promedio de {average_return} por filmación.\"}\n"
      ],
      "metadata": {
        "id": "11VmOUeoW1G8"
      },
      "execution_count": 77,
      "outputs": []
    },
    {
      "cell_type": "code",
      "source": [
        "resultado = get_actor(\"Robin Williams\")\n",
        "print(resultado)\n"
      ],
      "metadata": {
        "colab": {
          "base_uri": "https://localhost:8080/"
        },
        "id": "n8neQNeRVyt7",
        "outputId": "d92e8181-0dc0-4a26-cacd-8ff734e5801b"
      },
      "execution_count": 78,
      "outputs": [
        {
          "output_type": "stream",
          "name": "stdout",
          "text": [
            "{'resultado': 'El actor Robin Williams ha participado en 82 filmaciones. Ha conseguido un retorno total de 155.6881040048321 con un promedio de 1.8986354146930744 por filmación.'}\n"
          ]
        }
      ]
    },
    {
      "cell_type": "markdown",
      "source": [
        "def get_director( nombre_director ): Se ingresa el nombre de un director que se encuentre dentro de un dataset debiendo devolver el éxito del mismo medido a través del retorno. Además, deberá devolver el nombre de cada película con la fecha de lanzamiento, retorno individual, costo y ganancia de la misma."
      ],
      "metadata": {
        "id": "nQf1-fwGXGAi"
      }
    },
    {
      "cell_type": "code",
      "source": [
        "def get_director(nombre_director):\n",
        "    # Filtrar el DataFrame por el nombre del director\n",
        "    df_director = dfmerge[dfmerge['DirectorNames'] == nombre_director]\n",
        "\n",
        "    # Verificar si el director existe en el dataset\n",
        "    if df_director.empty:\n",
        "        return {\"error\": \"El director especificado no se encuentra en el dataset.\"}\n",
        "\n",
        "    # Calcular el éxito del director como la suma de los retornos individuales\n",
        "    exito = df_director['return'].sum()\n",
        "\n",
        "    # Obtener los datos de cada película del director\n",
        "    peliculas = []\n",
        "    for index, row in df_director.iterrows():\n",
        "        pelicula = {\n",
        "            'titulo': row['title'],\n",
        "            'fecha_lanzamiento': row['release_date'],\n",
        "            'retorno_individual': row['return'],\n",
        "            'costo': row['budget'],\n",
        "            'ganancia': row['revenue']\n",
        "        }\n",
        "        peliculas.append(pelicula)\n",
        "\n",
        "    return {\"exito\": exito, \"peliculas\": peliculas}\n"
      ],
      "metadata": {
        "id": "zZNkMYW-XJN8"
      },
      "execution_count": 79,
      "outputs": []
    },
    {
      "cell_type": "code",
      "source": [
        "resultado = get_director(\"John Lasseter\")\n",
        "print(resultado)"
      ],
      "metadata": {
        "colab": {
          "base_uri": "https://localhost:8080/"
        },
        "id": "a6CSrufIYLMc",
        "outputId": "6d6a92af-f903-45b3-8161-36db2152e03a"
      },
      "execution_count": 80,
      "outputs": [
        {
          "output_type": "stream",
          "name": "stdout",
          "text": [
            "{'exito': 21.00525680277778, 'peliculas': [{'titulo': 'Toy Story', 'fecha_lanzamiento': Timestamp('1995-10-30 00:00:00'), 'retorno_individual': 12.4518011, 'costo': 30000000, 'ganancia': 373554033.0}, {'titulo': \"A Bug's Life\", 'fecha_lanzamiento': Timestamp('1998-11-25 00:00:00'), 'retorno_individual': 3.027157158333333, 'costo': 120000000, 'ganancia': 363258859.0}, {'titulo': 'Toy Story 2', 'fecha_lanzamiento': Timestamp('1999-10-30 00:00:00'), 'retorno_individual': 5.526298544444445, 'costo': 90000000, 'ganancia': 497366869.0}]}\n"
          ]
        }
      ]
    }
  ]
}